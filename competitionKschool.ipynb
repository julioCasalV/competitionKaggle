{
 "cells": [
  {
   "cell_type": "markdown",
   "id": "33acdabd",
   "metadata": {},
   "source": [
    "# Competition Kaggle\n",
    "\n",
    "Comenzamos importando todas las lirerías que hacen falta"
   ]
  },
  {
   "cell_type": "code",
   "execution_count": 6,
   "id": "70615da4",
   "metadata": {},
   "outputs": [],
   "source": [
    "import pandas as pd\n",
    "import numpy as np\n",
    "import time\n",
    "import matplotlib\n",
    "import matplotlib.pyplot as plt\n",
    "from sklearn.model_selection import train_test_split \n",
    "from sklearn.ensemble import RandomForestClassifier\n",
    "from sklearn import tree\n",
    "from sklearn.metrics import confusion_matrix\n",
    "from sklearn.metrics import roc_auc_score, precision_score, recall_score, f1_score"
   ]
  },
  {
   "cell_type": "markdown",
   "id": "974c4202",
   "metadata": {},
   "source": [
    "Creamos una copia original de la lectura del archivo para no tener que volverla a leer"
   ]
  },
  {
   "cell_type": "code",
   "execution_count": 7,
   "id": "b39f82e0",
   "metadata": {
    "scrolled": true
   },
   "outputs": [],
   "source": [
    "dfOrig = pd.read_csv('competitionKschool/Train.csv', sep=',', encoding='latin-1')"
   ]
  },
  {
   "cell_type": "code",
   "execution_count": 88,
   "id": "5d84a4ac",
   "metadata": {},
   "outputs": [
    {
     "data": {
      "text/plain": [
       "cant_ent_deuda_consu_mes00      238796\n",
       "cant_ent_deuda_consu_mes01      242562\n",
       "cant_ent_deuda_consu_mes02      245575\n",
       "cant_ent_deuda_consu_mes03      248653\n",
       "cant_ent_deuda_consu_mes04      251079\n",
       "cant_ent_deuda_consu_mes05      254027\n",
       "cant_ent_deuda_hipot_mes00      238796\n",
       "cant_ent_deuda_hipot_mes01      242562\n",
       "cant_ent_deuda_hipot_mes02      245575\n",
       "cant_ent_deuda_hipot_mes03      248653\n",
       "cant_ent_deuda_hipot_mes04      251079\n",
       "cant_ent_deuda_hipot_mes05      254027\n",
       "cant_prot_no_aclarados_soles      2461\n",
       "codigo_rubro_actividad          228651\n",
       "deuda_dir_vig_consu_mes00       330583\n",
       "deuda_dir_vig_consu_mes01       333531\n",
       "deuda_dir_vig_consu_mes02       336109\n",
       "deuda_dir_vig_consu_mes03       338259\n",
       "deuda_dir_vig_consu_mes04       340243\n",
       "deuda_dir_vig_consu_mes05       342107\n",
       "edad                             21298\n",
       "monto_doc_morosos_soles           2461\n",
       "risk_predictor_2                  7771\n",
       "rubro_actividades               228651\n",
       "situacion_contribuyente         228486\n",
       "tipo_sociedad                   228486\n",
       "dtype: int64"
      ]
     },
     "execution_count": 88,
     "metadata": {},
     "output_type": "execute_result"
    }
   ],
   "source": [
    "df = dfOrig.copy()\n",
    "df.isna().sum()[df.isna().sum() > 0]"
   ]
  },
  {
   "cell_type": "markdown",
   "id": "a9793fde",
   "metadata": {},
   "source": [
    "### Primera lectura\n",
    "\n",
    "Realizamos los primeros mapeos de los campos"
   ]
  },
  {
   "cell_type": "code",
   "execution_count": 89,
   "id": "7cf5d7c4",
   "metadata": {},
   "outputs": [],
   "source": [
    "df['target'].value_counts(normalize=True)\n",
    "\n",
    "## Diccionario direccion_eval\n",
    "dicc_direccion_eval = {'mala':0, 'regular':1, 'normal':2, 'buena':3}\n",
    "df['direccion_eval'] = df['direccion_eval'].map(dicc_direccion_eval)\n",
    "\n",
    "## dicc_reportado\n",
    "reportadoList = ['esta_reportado_mes00', 'esta_reportado_mes01', 'esta_reportado_mes02', 'esta_reportado_mes03', 'esta_reportado_mes04', 'esta_reportado_mes05']\n",
    "dicc_reportado = {'No identificado':-1, 'No':0, 'Si':1}\n",
    "for column in reportadoList:\n",
    "    df[column] = df[column].map(dicc_reportado)\n",
    "df['esta_reportado'] = (df['esta_reportado_mes00'] == -1).astype(int)\n",
    "\n",
    "## dicc_rango_ingresos_2\n",
    "dicc_rango_ingresos_2 = {'No identificado' : -1, 'Sin ingreso' : 0, '< 450' : 450, '<450' : 450, '[450 - 600>' : 600, '[450-600>' : 600, '[600 - 1,000>' : 1000, '[600-1,000>' : 1000, '[1,000 - 1,300>' : 1300, '[1,000-1,300>' : 1300, '[1,300 - 2,000>' : 2000, '[1,300-2,000>' : 2000, '[2,000 - 3,500>' : 3500, '[2,000-3,500>' : 3500, '[3,500 - 6,000>' : 6000, '[3,500-6,000>' : 6000, '[6,000 - 10,000>' : 10000, '[6,000-10,000>' : 10000, '>=10,000' : 15000}\n",
    "df['rango_ingresos_2'] = df['rango_ingresos_2'].map(dicc_rango_ingresos_2)\n",
    "df['rango_ingresos_2_No_id'] = (df['rango_ingresos_2'] == -1).astype(int)\n",
    "df['rango_ingresos_2'] = df['rango_ingresos_2'].map(lambda x: x if x >-1 else 1300)\n",
    "df['rango_ingresos_2_No_id'] = (df['rango_ingresos_2'] == -1).astype(int)\n",
    "\n",
    "## cantidad_doc_morosos\n",
    "df['cantidad_doc_morosos'] = df['cantidad_doc_morosos'].map(lambda x: x if x != 'No identificado' else 0)\n",
    "df['cantidad_doc_morosos'] = df['cantidad_doc_morosos'].astype(int)\n",
    "\n",
    "## edad \n",
    "df['edad'] = df['edad'].fillna(18)\n",
    "\n",
    "## tipo_sociedad \n",
    "df['tipo_sociedad'] = df['tipo_sociedad'].fillna('empty')\n",
    "\n",
    "\n",
    "## cant_ent_deuda_ consu_hipot _mes\n",
    "list_consu = filter_columns(df, 'cant_ent_deuda_consu')\n",
    "for name_consu in list_consu:\n",
    "    name_column_na = name_consu.replace('consu', 'consu_hipot_null')\n",
    "    df[name_column_na] = df[name_consu].isna().astype(int)\n",
    "    df[name_hipot] = df[name_consu].fillna(0)\n",
    "    name_hipot = name_consu.replace('consu', 'hipot')\n",
    "    df[name_hipot] = df[name_hipot].fillna(0)"
   ]
  },
  {
   "cell_type": "code",
   "execution_count": 90,
   "id": "642dbdd4",
   "metadata": {},
   "outputs": [
    {
     "data": {
      "text/plain": [
       "cant_ent_deuda_consu_mes00      238796\n",
       "cant_ent_deuda_consu_mes01      242562\n",
       "cant_ent_deuda_consu_mes02      245575\n",
       "cant_ent_deuda_consu_mes03      248653\n",
       "cant_ent_deuda_consu_mes04      251079\n",
       "cant_ent_deuda_consu_mes05      254027\n",
       "cant_prot_no_aclarados_soles      2461\n",
       "codigo_rubro_actividad          228651\n",
       "deuda_dir_vig_consu_mes00       330583\n",
       "deuda_dir_vig_consu_mes01       333531\n",
       "deuda_dir_vig_consu_mes02       336109\n",
       "deuda_dir_vig_consu_mes03       338259\n",
       "deuda_dir_vig_consu_mes04       340243\n",
       "deuda_dir_vig_consu_mes05       342107\n",
       "monto_doc_morosos_soles           2461\n",
       "risk_predictor_2                  7771\n",
       "rubro_actividades               228651\n",
       "situacion_contribuyente         228486\n",
       "tipo_sociedad                   228486\n",
       "dtype: int64"
      ]
     },
     "execution_count": 90,
     "metadata": {},
     "output_type": "execute_result"
    }
   ],
   "source": [
    "df.isna().sum()[df.isna().sum() > 0]"
   ]
  },
  {
   "cell_type": "markdown",
   "id": "f4927c8d",
   "metadata": {},
   "source": [
    "## Model"
   ]
  },
  {
   "cell_type": "code",
   "execution_count": 82,
   "id": "7c6696d5",
   "metadata": {},
   "outputs": [],
   "source": [
    "train, test = train_test_split(df, test_size=0.25, stratify=df['target'], random_state=42)"
   ]
  },
  {
   "cell_type": "code",
   "execution_count": 83,
   "id": "8cae293d",
   "metadata": {},
   "outputs": [],
   "source": [
    "def dropNullColumns(dfInput):\n",
    "    dfWithOutNulls = dfInput.isna().sum()\n",
    "    dfWithOutNulls = dfInput[dfWithOutNulls[dfWithOutNulls == 0].index]\n",
    "    return dfWithOutNulls"
   ]
  },
  {
   "cell_type": "code",
   "execution_count": 84,
   "id": "e86753d3",
   "metadata": {},
   "outputs": [],
   "source": [
    "trainTmp = dropNullColumns(train)\n",
    "categorical_cols = trainTmp.drop('Id', axis = 1).select_dtypes('O').columns\n",
    "trainTmp = pd.get_dummies(trainTmp, columns=categorical_cols, drop_first=True)\n",
    "testTmp = pd.get_dummies(test, columns=categorical_cols, drop_first=True)"
   ]
  },
  {
   "cell_type": "markdown",
   "id": "6494d9da",
   "metadata": {},
   "source": [
    "### RamdomForest"
   ]
  },
  {
   "cell_type": "code",
   "execution_count": 85,
   "id": "db92e499",
   "metadata": {},
   "outputs": [
    {
     "name": "stdout",
     "output_type": "stream",
     "text": [
      "316.4139606952667\n"
     ]
    }
   ],
   "source": [
    "inicio = time.time()\n",
    "model = RandomForestClassifier(random_state=42)\n",
    "predictive_variables = [c for c in trainTmp.columns\n",
    "                       if c not in ('Id', 'target')]\n",
    "model.fit(trainTmp[predictive_variables], train.target)\n",
    "probabilities = model.predict_proba(testTmp[predictive_variables])[:, 1]\n",
    "fin = time.time()\n",
    "print(fin-inicio)"
   ]
  },
  {
   "cell_type": "markdown",
   "id": "eb7ef25e",
   "metadata": {},
   "source": [
    "### Choosing the probability threshold"
   ]
  },
  {
   "cell_type": "code",
   "execution_count": 86,
   "id": "eb827e1f",
   "metadata": {},
   "outputs": [
    {
     "name": "stdout",
     "output_type": "stream",
     "text": [
      "optimum threshold found: 0.34\n",
      "0.624224877925331\n"
     ]
    }
   ],
   "source": [
    "roc_auc_scores = []\n",
    "for threshold in np.arange(0.01, 1, 0.01):\n",
    "    predictions = probabilities >= threshold\n",
    "    roc_auc_scores.append((threshold, roc_auc_score(testTmp.target, predictions)))\n",
    "max_roc_auc_threshold = sorted(roc_auc_scores, key=lambda x:x[1], reverse=True)[0][0]\n",
    "predictions = probabilities >= max_roc_auc_threshold\n",
    "print(f'optimum threshold found: {max_roc_auc_threshold}')\n",
    "print(roc_auc_score(testTmp.target, predictions))"
   ]
  },
  {
   "cell_type": "code",
   "execution_count": 176,
   "id": "d9e2a45d",
   "metadata": {},
   "outputs": [
    {
     "data": {
      "text/plain": [
       "array([[50705, 29861],\n",
       "       [15629, 25825]])"
      ]
     },
     "execution_count": 176,
     "metadata": {},
     "output_type": "execute_result"
    }
   ],
   "source": [
    "confusion_matrix(testTmp.target, predictions)\n"
   ]
  },
  {
   "cell_type": "code",
   "execution_count": null,
   "id": "c4b50fb0",
   "metadata": {},
   "outputs": [],
   "source": [
    "#1 Solo con varables no nulas y dummies\n",
    "#optimum threshold found: 0.36000000000000004\n",
    "#0.6230363896185201\n",
    "\n",
    "#2 Solo con varables no nulas y aplicando direccion_eval \n",
    "#optimum threshold found: 0.36000000000000004\n",
    "#0.6229165803362066\n",
    "\n",
    "#3 Solo con varables no nulas y aplicando direccion_eval y dicc_reportado\n",
    "#optimum threshold found: 0.36000000000000004\n",
    "#0.6225590813571202\n",
    "\n",
    "#4 Incluye rango_ingresos_2 a lo anterior\n",
    "#optimum threshold found: 0.36000000000000004\n",
    "#0.6226945635141578\n",
    "\n",
    "#4 Incluye rcantidad_doc_morosos a lo anterior\n",
    "# tiempo 360\n",
    "#optimum threshold found: 0.34\n",
    "#0.6261697339444241"
   ]
  },
  {
   "cell_type": "code",
   "execution_count": 66,
   "id": "e2992e04",
   "metadata": {},
   "outputs": [
    {
     "ename": "MemoryError",
     "evalue": "Unable to allocate 125. GiB for an array with shape (366057, 366057) and data type uint8",
     "output_type": "error",
     "traceback": [
      "\u001b[0;31m---------------------------------------------------------------------------\u001b[0m",
      "\u001b[0;31mMemoryError\u001b[0m                               Traceback (most recent call last)",
      "\u001b[0;32m<ipython-input-66-63fef011f68d>\u001b[0m in \u001b[0;36m<module>\u001b[0;34m\u001b[0m\n\u001b[1;32m      1\u001b[0m \u001b[0mcategorical_cols\u001b[0m \u001b[0;34m=\u001b[0m \u001b[0mtrainTmp\u001b[0m\u001b[0;34m.\u001b[0m\u001b[0mselect_dtypes\u001b[0m\u001b[0;34m(\u001b[0m\u001b[0;34m'O'\u001b[0m\u001b[0;34m)\u001b[0m\u001b[0;34m.\u001b[0m\u001b[0mcolumns\u001b[0m\u001b[0;34m\u001b[0m\u001b[0;34m\u001b[0m\u001b[0m\n\u001b[0;32m----> 2\u001b[0;31m \u001b[0mtrainTmp\u001b[0m \u001b[0;34m=\u001b[0m \u001b[0mpd\u001b[0m\u001b[0;34m.\u001b[0m\u001b[0mget_dummies\u001b[0m\u001b[0;34m(\u001b[0m\u001b[0mtrainTmp\u001b[0m\u001b[0;34m,\u001b[0m \u001b[0mcolumns\u001b[0m\u001b[0;34m=\u001b[0m\u001b[0mcategorical_cols\u001b[0m\u001b[0;34m,\u001b[0m \u001b[0mdrop_first\u001b[0m\u001b[0;34m=\u001b[0m\u001b[0;32mTrue\u001b[0m\u001b[0;34m)\u001b[0m\u001b[0;34m\u001b[0m\u001b[0;34m\u001b[0m\u001b[0m\n\u001b[0m\u001b[1;32m      3\u001b[0m \u001b[0mtrainTmp\u001b[0m\u001b[0;34m\u001b[0m\u001b[0;34m\u001b[0m\u001b[0m\n",
      "\u001b[0;32m/opt/conda/lib/python3.8/site-packages/pandas/core/reshape/reshape.py\u001b[0m in \u001b[0;36mget_dummies\u001b[0;34m(data, prefix, prefix_sep, dummy_na, columns, sparse, drop_first, dtype)\u001b[0m\n\u001b[1;32m    934\u001b[0m         \u001b[0;32mfor\u001b[0m \u001b[0;34m(\u001b[0m\u001b[0mcol\u001b[0m\u001b[0;34m,\u001b[0m \u001b[0mpre\u001b[0m\u001b[0;34m,\u001b[0m \u001b[0msep\u001b[0m\u001b[0;34m)\u001b[0m \u001b[0;32min\u001b[0m \u001b[0mzip\u001b[0m\u001b[0;34m(\u001b[0m\u001b[0mdata_to_encode\u001b[0m\u001b[0;34m.\u001b[0m\u001b[0mitems\u001b[0m\u001b[0;34m(\u001b[0m\u001b[0;34m)\u001b[0m\u001b[0;34m,\u001b[0m \u001b[0mprefix\u001b[0m\u001b[0;34m,\u001b[0m \u001b[0mprefix_sep\u001b[0m\u001b[0;34m)\u001b[0m\u001b[0;34m:\u001b[0m\u001b[0;34m\u001b[0m\u001b[0;34m\u001b[0m\u001b[0m\n\u001b[1;32m    935\u001b[0m             \u001b[0;31m# col is (column_name, column), use just column data here\u001b[0m\u001b[0;34m\u001b[0m\u001b[0;34m\u001b[0m\u001b[0;34m\u001b[0m\u001b[0m\n\u001b[0;32m--> 936\u001b[0;31m             dummy = _get_dummies_1d(\n\u001b[0m\u001b[1;32m    937\u001b[0m                 \u001b[0mcol\u001b[0m\u001b[0;34m[\u001b[0m\u001b[0;36m1\u001b[0m\u001b[0;34m]\u001b[0m\u001b[0;34m,\u001b[0m\u001b[0;34m\u001b[0m\u001b[0;34m\u001b[0m\u001b[0m\n\u001b[1;32m    938\u001b[0m                 \u001b[0mprefix\u001b[0m\u001b[0;34m=\u001b[0m\u001b[0mpre\u001b[0m\u001b[0;34m,\u001b[0m\u001b[0;34m\u001b[0m\u001b[0;34m\u001b[0m\u001b[0m\n",
      "\u001b[0;32m/opt/conda/lib/python3.8/site-packages/pandas/core/reshape/reshape.py\u001b[0m in \u001b[0;36m_get_dummies_1d\u001b[0;34m(data, prefix, prefix_sep, dummy_na, sparse, drop_first, dtype)\u001b[0m\n\u001b[1;32m   1057\u001b[0m     \u001b[0;32melse\u001b[0m\u001b[0;34m:\u001b[0m\u001b[0;34m\u001b[0m\u001b[0;34m\u001b[0m\u001b[0m\n\u001b[1;32m   1058\u001b[0m         \u001b[0;31m# take on axis=1 + transpose to ensure ndarray layout is column-major\u001b[0m\u001b[0;34m\u001b[0m\u001b[0;34m\u001b[0m\u001b[0;34m\u001b[0m\u001b[0m\n\u001b[0;32m-> 1059\u001b[0;31m         \u001b[0mdummy_mat\u001b[0m \u001b[0;34m=\u001b[0m \u001b[0mnp\u001b[0m\u001b[0;34m.\u001b[0m\u001b[0meye\u001b[0m\u001b[0;34m(\u001b[0m\u001b[0mnumber_of_cols\u001b[0m\u001b[0;34m,\u001b[0m \u001b[0mdtype\u001b[0m\u001b[0;34m=\u001b[0m\u001b[0mdtype\u001b[0m\u001b[0;34m)\u001b[0m\u001b[0;34m.\u001b[0m\u001b[0mtake\u001b[0m\u001b[0;34m(\u001b[0m\u001b[0mcodes\u001b[0m\u001b[0;34m,\u001b[0m \u001b[0maxis\u001b[0m\u001b[0;34m=\u001b[0m\u001b[0;36m1\u001b[0m\u001b[0;34m)\u001b[0m\u001b[0;34m.\u001b[0m\u001b[0mT\u001b[0m\u001b[0;34m\u001b[0m\u001b[0;34m\u001b[0m\u001b[0m\n\u001b[0m\u001b[1;32m   1060\u001b[0m \u001b[0;34m\u001b[0m\u001b[0m\n\u001b[1;32m   1061\u001b[0m         \u001b[0;32mif\u001b[0m \u001b[0;32mnot\u001b[0m \u001b[0mdummy_na\u001b[0m\u001b[0;34m:\u001b[0m\u001b[0;34m\u001b[0m\u001b[0;34m\u001b[0m\u001b[0m\n",
      "\u001b[0;32m/opt/conda/lib/python3.8/site-packages/numpy/lib/twodim_base.py\u001b[0m in \u001b[0;36meye\u001b[0;34m(N, M, k, dtype, order)\u001b[0m\n\u001b[1;32m    197\u001b[0m     \u001b[0;32mif\u001b[0m \u001b[0mM\u001b[0m \u001b[0;32mis\u001b[0m \u001b[0;32mNone\u001b[0m\u001b[0;34m:\u001b[0m\u001b[0;34m\u001b[0m\u001b[0;34m\u001b[0m\u001b[0m\n\u001b[1;32m    198\u001b[0m         \u001b[0mM\u001b[0m \u001b[0;34m=\u001b[0m \u001b[0mN\u001b[0m\u001b[0;34m\u001b[0m\u001b[0;34m\u001b[0m\u001b[0m\n\u001b[0;32m--> 199\u001b[0;31m     \u001b[0mm\u001b[0m \u001b[0;34m=\u001b[0m \u001b[0mzeros\u001b[0m\u001b[0;34m(\u001b[0m\u001b[0;34m(\u001b[0m\u001b[0mN\u001b[0m\u001b[0;34m,\u001b[0m \u001b[0mM\u001b[0m\u001b[0;34m)\u001b[0m\u001b[0;34m,\u001b[0m \u001b[0mdtype\u001b[0m\u001b[0;34m=\u001b[0m\u001b[0mdtype\u001b[0m\u001b[0;34m,\u001b[0m \u001b[0morder\u001b[0m\u001b[0;34m=\u001b[0m\u001b[0morder\u001b[0m\u001b[0;34m)\u001b[0m\u001b[0;34m\u001b[0m\u001b[0;34m\u001b[0m\u001b[0m\n\u001b[0m\u001b[1;32m    200\u001b[0m     \u001b[0;32mif\u001b[0m \u001b[0mk\u001b[0m \u001b[0;34m>=\u001b[0m \u001b[0mM\u001b[0m\u001b[0;34m:\u001b[0m\u001b[0;34m\u001b[0m\u001b[0;34m\u001b[0m\u001b[0m\n\u001b[1;32m    201\u001b[0m         \u001b[0;32mreturn\u001b[0m \u001b[0mm\u001b[0m\u001b[0;34m\u001b[0m\u001b[0;34m\u001b[0m\u001b[0m\n",
      "\u001b[0;31mMemoryError\u001b[0m: Unable to allocate 125. GiB for an array with shape (366057, 366057) and data type uint8"
     ]
    }
   ],
   "source": [
    "categorical_cols = trainTmp.select_dtypes('O').columns\n",
    "trainTmp = pd.get_dummies(trainTmp, columns=categorical_cols, drop_first=True)\n",
    "trainTmp"
   ]
  },
  {
   "cell_type": "code",
   "execution_count": 4,
   "id": "6d2efd7b",
   "metadata": {
    "scrolled": false
   },
   "outputs": [
    {
     "name": "stderr",
     "output_type": "stream",
     "text": [
      "<ipython-input-4-efbd9a39ca11>:3: FutureWarning: Indexing with multiple keys (implicitly converted to a tuple of keys) will be deprecated, use a list instead.\n",
      "  df_tmp = df_tmp.groupby(\n"
     ]
    },
    {
     "name": "stdout",
     "output_type": "stream",
     "text": [
      "                  target  num  porct_fraud\n",
      "risk_predictor_2                          \n",
      "1.0                    2    2     1.000000\n",
      "2.0                    8   11     0.727273\n",
      "3.0                   23   36     0.638889\n",
      "4.0                   37   70     0.528571\n",
      "5.0                   49   75     0.653333\n",
      "...                  ...  ...          ...\n",
      "991.0                  7   37     0.189189\n",
      "992.0                  0   25     0.000000\n",
      "993.0                  1   16     0.062500\n",
      "994.0                  0    8     0.000000\n",
      "995.0                  0    2     0.000000\n",
      "\n",
      "[995 rows x 3 columns]\n",
      "Id                                   0\n",
      "target                               0\n",
      "calificacion_mes00                   0\n",
      "calificacion_mes01                   0\n",
      "calificacion_mes02                   0\n",
      "calificacion_mes03                   0\n",
      "calificacion_mes04                   0\n",
      "calificacion_mes05                   0\n",
      "canal                                0\n",
      "cant_ent_deuda_consu_mes00      238796\n",
      "cant_ent_deuda_consu_mes01      242562\n",
      "cant_ent_deuda_consu_mes02      245575\n",
      "cant_ent_deuda_consu_mes03      248653\n",
      "cant_ent_deuda_consu_mes04      251079\n",
      "cant_ent_deuda_consu_mes05      254027\n",
      "cant_ent_deuda_hipot_mes00      238796\n",
      "cant_ent_deuda_hipot_mes01      242562\n",
      "cant_ent_deuda_hipot_mes02      245575\n",
      "cant_ent_deuda_hipot_mes03      248653\n",
      "cant_ent_deuda_hipot_mes04      251079\n",
      "cant_ent_deuda_hipot_mes05      254027\n",
      "cant_prot_no_aclarados_soles      2461\n",
      "cantidad_doc_morosos                 0\n",
      "clase_canal                          0\n",
      "codigo_rubro_actividad          228651\n",
      "cond_domicilio_sunat                 0\n",
      "deuda_dir_vig_consu_mes00       330583\n",
      "deuda_dir_vig_consu_mes01       333531\n",
      "deuda_dir_vig_consu_mes02       336109\n",
      "deuda_dir_vig_consu_mes03       338259\n",
      "deuda_dir_vig_consu_mes04       340243\n",
      "deuda_dir_vig_consu_mes05       342107\n",
      "direccion_eval                       0\n",
      "edad                             21298\n",
      "esta_reportado_mes00                 0\n",
      "esta_reportado_mes01                 0\n",
      "esta_reportado_mes02                 0\n",
      "esta_reportado_mes03                 0\n",
      "esta_reportado_mes04                 0\n",
      "esta_reportado_mes05                 0\n",
      "estado_civil                         0\n",
      "ind_bancarizacion_ult10m             0\n",
      "ind_morosidad                        0\n",
      "info_directorio_sunat                0\n",
      "monto_doc_morosos_soles           2461\n",
      "nivel_instruccion                    0\n",
      "rango_ingresos_2                     0\n",
      "risk_predictor_2                  7771\n",
      "rubro_actividades               228651\n",
      "situacion_contribuyente         228486\n",
      "tipo_sociedad                   228486\n",
      "num                                  0\n",
      "dtype: int64\n"
     ]
    }
   ],
   "source": [
    "df_tmp = df\n",
    "df_tmp['num'] = 1\n",
    "df_tmp = df_tmp.groupby(\n",
    "   ['risk_predictor_2']\n",
    ")['target', 'num'].sum()\n",
    "df_tmp['porct_fraud'] = df_tmp['target']/df_tmp['num']\n",
    "print(df_tmp.sort_values('risk_predictor_2'))\n",
    "print(df.isna().sum())"
   ]
  },
  {
   "cell_type": "markdown",
   "id": "ff51c7f4",
   "metadata": {},
   "source": [
    "## Metodhs"
   ]
  },
  {
   "cell_type": "markdown",
   "id": "1f6b7655",
   "metadata": {},
   "source": [
    "### Graphs of barras by value"
   ]
  },
  {
   "cell_type": "code",
   "execution_count": 56,
   "id": "2745ff4c",
   "metadata": {},
   "outputs": [],
   "source": [
    "def printBarrasApiladas(dfApilada , X, normalize=True):\n",
    "    dfApilada = dfApilada[['target', X]]\n",
    "    sizeDf = dfApilada.shape[0]\n",
    "    dfApiladaDummy = pd.get_dummies(dfApilada['target'], prefix=\"\", prefix_sep=\"\")\n",
    "    dfApilada = pd.concat([dfApilada,dfApiladaDummy],1)\n",
    "    dfApilada['count'] = 1\n",
    "    dfApilada = dfApilada.groupby(X, dropna=False).sum().reset_index()\n",
    "    if normalize == False:\n",
    "        dfApilada['count'] = 1\n",
    "    columnNa = -1\n",
    "    if dfApilada[X].dtypes == 'object':\n",
    "        dfApilada[\"sort\"] = dfApilada[\"1\"]/dfApilada[\"count\"]\n",
    "        dfApilada = dfApilada.sort_values('sort')   \n",
    "        dfApilada = dfApilada.drop([\"sort\"], axis = 1)\n",
    "        columnNa = \"Nan\"\n",
    "    dfApilada[X] = dfApilada[X].fillna(columnNa)\n",
    "    dfApiladaSum = np.zeros([dfApilada.shape[0],])\n",
    "    plt.figure(figsize=(15, 3))\n",
    "    for i in dfApilada.drop([X, 'target', 'count'], axis = 1):\n",
    "        plt.bar(dfApilada[X], dfApilada[i]/dfApilada['count'], label = i, bottom = dfApiladaSum)\n",
    "        dfApiladaSum = dfApiladaSum + np.array(dfApilada[i]/dfApilada['count'])\n",
    "    plt.title(X)\n",
    "    plt.legend()\n",
    "    plt.xticks(rotation=45)"
   ]
  },
  {
   "cell_type": "code",
   "execution_count": 92,
   "id": "be02aa3f",
   "metadata": {},
   "outputs": [
    {
     "name": "stderr",
     "output_type": "stream",
     "text": [
      "<ipython-input-56-1a041a284e91>:5: FutureWarning: In a future version of pandas all arguments of concat except for the argument 'objs' will be keyword-only\n",
      "  dfApilada = pd.concat([dfApilada,dfApiladaDummy],1)\n"
     ]
    },
    {
     "data": {
      "image/png": "[encoded data removed]",
      "text/plain": [
       "<Figure size 1080x216 with 1 Axes>"
      ]
     },
     "metadata": {
      "needs_background": "light"
     },
     "output_type": "display_data"
    },
    {
     "data": {
      "image/png": "[encoded data removed]",
      "text/plain": [
       "<Figure size 1080x216 with 1 Axes>"
      ]
     },
     "metadata": {
      "needs_background": "light"
     },
     "output_type": "display_data"
    }
   ],
   "source": [
    "printBarrasApiladas(df, 'monto_doc_morosos_soles', normalize=True)\n",
    "printBarrasApiladas(df, 'cant_ent_deuda_hipot_mes00', normalize=True)"
   ]
  },
  {
   "cell_type": "markdown",
   "id": "9dbe2ade",
   "metadata": {},
   "source": [
    "### Null Relation"
   ]
  },
  {
   "cell_type": "code",
   "execution_count": 52,
   "id": "754d51de",
   "metadata": {},
   "outputs": [],
   "source": [
    "def notNullRelation(dfTmp , listColumn):\n",
    "    dfTmp = dfTmp[listColumn].notna().astype(int)\n",
    "    num = 1\n",
    "    dfTmp['sum'] = 0\n",
    "    for item in dfTmp.drop('sum', axis = 1):\n",
    "        print(item)\n",
    "        print(num)\n",
    "        dfTmp[item] = dfTmp[item]*num\n",
    "        dfTmp['sum'] = dfTmp['sum'] + dfTmp[item]\n",
    "        num = num*10\n",
    "    dfTmp = dfTmp.reset_index()\n",
    "    print('---------------')\n",
    "    print(dfTmp['sum'].value_counts())"
   ]
  },
  {
   "cell_type": "code",
   "execution_count": 102,
   "id": "dc033f83",
   "metadata": {},
   "outputs": [
    {
     "name": "stdout",
     "output_type": "stream",
     "text": [
      "esta_reportado_mes00\n",
      "1\n",
      "esta_reportado_mes01\n",
      "10\n",
      "esta_reportado_mes02\n",
      "100\n",
      "esta_reportado_mes03\n",
      "1000\n",
      "esta_reportado_mes04\n",
      "10000\n",
      "esta_reportado_mes05\n",
      "100000\n",
      "---------------\n",
      "111111    488077\n",
      "Name: sum, dtype: int64\n"
     ]
    }
   ],
   "source": [
    "deudaList = ['esta_reportado_mes00', 'esta_reportado_mes01', 'esta_reportado_mes02', 'esta_reportado_mes03', 'esta_reportado_mes04', 'esta_reportado_mes05']\n",
    "notNullRelation(df , deudaList)"
   ]
  },
  {
   "cell_type": "markdown",
   "id": "3a2efb46",
   "metadata": {},
   "source": [
    "### Count Values"
   ]
  },
  {
   "cell_type": "code",
   "execution_count": null,
   "id": "5d9777c4",
   "metadata": {},
   "outputs": [],
   "source": [
    "def printCountValues(trainTmp):\n",
    "    for col in trainTmp.drop('Id', axis = 1):\n",
    "        print(col)\n",
    "        print(trainTmp[col].value_counts())\n",
    "        print('--------------------')"
   ]
  },
  {
   "cell_type": "code",
   "execution_count": 74,
   "id": "bef31675",
   "metadata": {},
   "outputs": [],
   "source": [
    "def filter_columns(dfTmp, filter_column):\n",
    "    list_columns = [column for column in dfTmp.columns if filter_column in column]\n",
    "    return list_columns"
   ]
  },
  {
   "cell_type": "code",
   "execution_count": 75,
   "id": "1762ca38",
   "metadata": {},
   "outputs": [
    {
     "name": "stdout",
     "output_type": "stream",
     "text": [
      "['cant_ent_deuda_consu_mes00', 'cant_ent_deuda_consu_mes01', 'cant_ent_deuda_consu_mes02', 'cant_ent_deuda_consu_mes03', 'cant_ent_deuda_consu_mes04', 'cant_ent_deuda_consu_mes05']\n"
     ]
    }
   ],
   "source": [
    "filter_col = filter_columns(df, 'cant_ent_deuda_consu')\n",
    "print(filter_col)"
   ]
  },
  {
   "cell_type": "code",
   "execution_count": 59,
   "id": "abc3d313",
   "metadata": {},
   "outputs": [
    {
     "data": {
      "text/plain": [
       "0.0    237455\n",
       "1.0     11590\n",
       "2.0       228\n",
       "3.0         8\n",
       "Name: cant_ent_deuda_hipot_mes00, dtype: int64"
      ]
     },
     "execution_count": 59,
     "metadata": {},
     "output_type": "execute_result"
    }
   ],
   "source": [
    "df['cant_ent_deuda_hipot_mes00'].value_counts()"
   ]
  },
  {
   "cell_type": "code",
   "execution_count": 60,
   "id": "c6015948",
   "metadata": {},
   "outputs": [
    {
     "data": {
      "text/plain": [
       "0.0    85835\n",
       "1.0    84851\n",
       "2.0    42726\n",
       "3.0    21539\n",
       "4.0     9500\n",
       "5.0     3525\n",
       "6.0     1027\n",
       "7.0      224\n",
       "8.0       48\n",
       "9.0        6\n",
       "Name: cant_ent_deuda_consu_mes00, dtype: int64"
      ]
     },
     "execution_count": 60,
     "metadata": {},
     "output_type": "execute_result"
    }
   ],
   "source": [
    "df['cant_ent_deuda_consu_mes00'].value_counts()"
   ]
  },
  {
   "cell_type": "code",
   "execution_count": null,
   "id": "4c7a5900",
   "metadata": {},
   "outputs": [],
   "source": [
    "df"
   ]
  }
 ],
 "metadata": {
  "kernelspec": {
   "display_name": "Python 3",
   "language": "python",
   "name": "python3"
  },
  "language_info": {
   "codemirror_mode": {
    "name": "ipython",
    "version": 3
   },
   "file_extension": ".py",
   "mimetype": "text/x-python",
   "name": "python",
   "nbconvert_exporter": "python",
   "pygments_lexer": "ipython3",
   "version": "3.8.8"
  }
 },
 "nbformat": 4,
 "nbformat_minor": 5
}
